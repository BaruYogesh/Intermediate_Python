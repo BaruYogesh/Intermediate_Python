{
  "cells": [
    {
      "cell_type": "markdown",
      "metadata": {
        "id": "3figPPIDdMVA"
      },
      "source": [
        "# Exercise 1\n",
        "### Creating a Module with a Function and Class definitions\n",
        "1. Create a module with the following entities\n",
        "   * A function called **'demographics'** to asks a user for their firts name, last name and year of birth and returns these values in that order.<br>\n",
        "     NB: Remember the **input( )** or **raw_iput( )** functions for Python 3 and 2 respectively.\n",
        "   * A fuction called **'uc_6_2'** with two string inputs (two names of a person with the firt name as first input). This fuction returns the UC 6+2\n",
        "   * A class called **'Student'** with the following attributes\n",
        "     * Takes three string input(First name, last name, and year of birth in that order) to create an object of this class\n",
        "     * A **'student_count'** CLASS VARIABLE to track the count of every student object created so to use them in creating a student number for each student\n",
        "     * A method called **'student_number'** to return the student number. A student number is the **student's yeaar of birth** + **student's count**\n",
        "     * A method called **'student_id'** calls the **'uc_6_2'** function to return the student ID\n",
        "   * Save the module as **'uc_student.py'**\n",
        "<br><br>  \n",
        "2. Imports the uc_student.py module into your session\n",
        "   * Create 3 student objects using the following steps\n",
        "     * For each student call the **'demographics( )'** function as save the output in a variable\n",
        "     * Use the information provided to create a student object\n",
        "   * Print the student number and student id of each student object\n",
        "   * Print the total nubmber of students\n",
        "   \n"
      ]
    },
    {
      "cell_type": "code",
      "source": [
        "# Fuction to get the first name, last name and year of birth of a person\n",
        "def demographics():\n",
        "    first_name = input('What is your First Name: ')\n",
        "    \n",
        "    last_name = input('What is your Last Name: ')\n",
        "    \n",
        "    year_of_birth = input('What is your Year of Birth: ')\n",
        "    \n",
        "    return first_name, last_name, year_of_birth\n",
        "\n",
        "\n",
        "# Fuction to return the six plus two\n",
        "# You may copy and paste the uc_6_2 function defined earlier     \n",
        "def uc_6_2(first_name,last_name):\n",
        "    # Use the appropriate If and else Decision Block with a condition that compares the Length of the Last name\n",
        "    # In the If and else Decision Block store the six plus two in a variable\n",
        "    # Use the Tips below in your If and else Decision Block\n",
        "    if len(last_name) >= 6:\n",
        "        sixplus2 = last_name[0:6] + first_name[0] + first_name[-1]        \n",
        "    # Continue the \"If..elif..else\" block with the appropriate block for the remaining scenario\n",
        "    else:\n",
        "      sixplus2= last_name + first_name[0:(6-len(last_name)+1)] + first_name[-1]\n",
        "    # Return the six plus two in lower case\n",
        "    return(sixplus2.lower())\n",
        "\n",
        "\n",
        "# Tips (Replace the portions marked as with ?)\n",
        "# ********************************************\n",
        "# For length of the last name is >=6, sixplus2 = last_name[0:?] + first_name[0] + first_name[?]\n",
        "# For length of the last name is <6, sixplus2 = last_name + first_name[0:(6-len(?)+1)] + first_name[?]\n",
        "\n",
        "\n",
        "# Student class definition\n",
        "class Student:\n",
        "    # Start the student population count at 0\n",
        "    student_count = 0\n",
        "    \n",
        "    # initialisation method\n",
        "    def __init__(self, par_first_name, par_last_name, par_year_of_birth): # Add all the necessary class parameters\n",
        "        self.var_first_name = par_first_name # Setting the Instance variable for the first name\n",
        "        # Follow the example above to initialize all other Instance variables\n",
        "        self.var_last_name = par_last_name\n",
        "        self.var_year_of_birth = par_year_of_birth       \n",
        "        \n",
        "        # Correct command below to increment the class parameter for student population by 1\n",
        "        Student.student_count = Student.student_count + 1\n",
        "        \n",
        "        # Setting an Instance variable for the current student number to the current student coun\n",
        "        self.num = Student.student_count # Save for creation of student number\n",
        "        \n",
        "    # Method to return student number (year of birth + count)\n",
        "    def student_number(self):\n",
        "        # Use the hint below to return the student's yeaar of birth + student's number\n",
        "        return self.var_year_of_birth + str(self.num)\n",
        "        \n",
        "        # Hint: return self.year_of_birth + '?'\n",
        "        # Correct the code above by repacing '?'\n",
        "        # Student's number is a number so you may have to use the str() function to convert to string\n",
        "        # to make concatenation possible\n",
        "\n",
        "    # Metod to return student UC six plus two\n",
        "    def student_id(self):\n",
        "        # Call apprrioprate fuction above to return the UC 6+2\n",
        "        return uc_6_2(self.var_first_name, self.var_last_name)"
      ],
      "metadata": {
        "id": "MS-BLbcjdNjO"
      },
      "execution_count": null,
      "outputs": []
    },
    {
      "cell_type": "markdown",
      "source": [
        "### Solving Part 2 of Exercise\n",
        "**Import the ' uc_student ' module into your session with an alias**"
      ],
      "metadata": {
        "id": "hjlanZWSdVE8"
      }
    },
    {
      "cell_type": "code",
      "execution_count": null,
      "metadata": {
        "id": "nitbFVQJdMVF"
      },
      "outputs": [],
      "source": [
        "import uc_student as u"
      ]
    },
    {
      "cell_type": "markdown",
      "metadata": {
        "id": "vZ6kYoBcdMVG"
      },
      "source": [
        "**Call the ' demographics ' function to take inputs for first student and store in a variable**"
      ]
    },
    {
      "cell_type": "code",
      "execution_count": null,
      "metadata": {
        "id": "cWQ4ZhrQdMVG",
        "outputId": "01bec82e-0062-42a4-d362-e4651ada8a00"
      },
      "outputs": [
        {
          "name": "stdout",
          "output_type": "stream",
          "text": [
            "What is your First Name: Dag\n",
            "What is your Last Name: Heward-Mills\n",
            "What is your Year of Birth: 1963\n"
          ]
        }
      ],
      "source": [
        "demo = u.demographics()"
      ]
    },
    {
      "cell_type": "markdown",
      "metadata": {
        "id": "fQM2auAvdMVH"
      },
      "source": [
        "**Call the ' Student ' class create first student object using the list saved in the command above and sore in a variable**"
      ]
    },
    {
      "cell_type": "code",
      "execution_count": null,
      "metadata": {
        "id": "4fKk6_1ndMVH"
      },
      "outputs": [],
      "source": [
        "s1 = u.Student(demo[0],demo[1],demo[2])"
      ]
    },
    {
      "cell_type": "markdown",
      "metadata": {
        "id": "qO0KsWUEdMVI"
      },
      "source": [
        "**Call the ' demographics ' function to take inputs for second student and store in a variable**"
      ]
    },
    {
      "cell_type": "code",
      "execution_count": null,
      "metadata": {
        "id": "ENbEdTsldMVI",
        "outputId": "3628b695-bb00-48be-df45-b912e4385bcf"
      },
      "outputs": [
        {
          "name": "stdout",
          "output_type": "stream",
          "text": [
            "What is your First Name: Kwame\n",
            "What is your Last Name: Edjah\n",
            "What is your Year of Birth: 1991\n"
          ]
        }
      ],
      "source": [
        "demo = u.demographics()"
      ]
    },
    {
      "cell_type": "markdown",
      "metadata": {
        "id": "D6URl8JKdMVJ"
      },
      "source": [
        "**Call the ' Student ' class create second student object using the list saved in the command above and sore in a variable**"
      ]
    },
    {
      "cell_type": "code",
      "execution_count": null,
      "metadata": {
        "id": "pKxTZAp1dMVK"
      },
      "outputs": [],
      "source": [
        "s2 = u.Student(demo[0],demo[1],demo[2])"
      ]
    },
    {
      "cell_type": "markdown",
      "metadata": {
        "id": "55kr6K7pdMVL"
      },
      "source": [
        "**Call the ' demographics ' function to take inputs for third student and store in a variable**"
      ]
    },
    {
      "cell_type": "code",
      "execution_count": null,
      "metadata": {
        "id": "udBP2gu4dMVM",
        "outputId": "9a7edcaa-f2bc-4a0b-8ca9-4fda9c05eadd"
      },
      "outputs": [
        {
          "name": "stdout",
          "output_type": "stream",
          "text": [
            "What is your First Name: Akosua\n",
            "What is your Last Name: Sunu\n",
            "What is your Year of Birth: 1990\n"
          ]
        }
      ],
      "source": [
        "demo = u.demographics()"
      ]
    },
    {
      "cell_type": "markdown",
      "metadata": {
        "id": "cwqBeqx_dMVM"
      },
      "source": [
        "**Call the ' Student ' class create third student object using the list saved in the command above and sore in a variable**"
      ]
    },
    {
      "cell_type": "code",
      "execution_count": null,
      "metadata": {
        "id": "YKcFV6tZdMVM"
      },
      "outputs": [],
      "source": [
        "s3 = u.Student(demo[0],demo[1],demo[2])"
      ]
    },
    {
      "cell_type": "markdown",
      "metadata": {
        "id": "eoHGXRb5dMVN"
      },
      "source": [
        "**Print the student number and student id of each student object**\n",
        "\n",
        "**Hint:** Replace the **?** in below command with appropriate code.\n",
        "<br>\n",
        "Do this for all three student objects in the cell below\n",
        "<br>\n",
        "**print ( 'Number of First Student : ', ? , ' ; ID of First Student : ', ? )**"
      ]
    },
    {
      "cell_type": "code",
      "execution_count": null,
      "metadata": {
        "id": "PmtNSFaydMVN",
        "outputId": "6b95dc23-f091-46c6-9a67-48a8889fafba"
      },
      "outputs": [
        {
          "name": "stdout",
          "output_type": "stream",
          "text": [
            "Number of First Student :  19631  ; ID of First Student :  hewarddg\n",
            "Number of Second Student :  19912  ; ID of Second Student :  edjahkwe\n",
            "Number of Third Student :  19903  ; ID of Third Student :  sunuakoa\n"
          ]
        }
      ],
      "source": [
        "print('Number of First Student : ', s1.student_number(), ' ; ID of First Student : ', s1.student_id())\n",
        "\n",
        "print('Number of Second Student : ', s2.student_number(), ' ; ID of Second Student : ', s2.student_id())\n",
        "\n",
        "print('Number of Third Student : ', s3.student_number(), ' ; ID of Third Student : ', s3.student_id())"
      ]
    }
  ],
  "metadata": {
    "kernelspec": {
      "display_name": "Python 3",
      "language": "python",
      "name": "python3"
    },
    "language_info": {
      "codemirror_mode": {
        "name": "ipython",
        "version": 3
      },
      "file_extension": ".py",
      "mimetype": "text/x-python",
      "name": "python",
      "nbconvert_exporter": "python",
      "pygments_lexer": "ipython3",
      "version": "3.6.5"
    },
    "colab": {
      "provenance": []
    }
  },
  "nbformat": 4,
  "nbformat_minor": 0
}